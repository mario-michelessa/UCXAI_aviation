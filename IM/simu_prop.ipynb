{
 "cells": [
  {
   "cell_type": "code",
   "execution_count": null,
   "metadata": {},
   "outputs": [],
   "source": []
  },
  {
   "cell_type": "code",
   "execution_count": null,
   "metadata": {},
   "outputs": [],
   "source": [
    "#animation of independent cascade\n",
    "def IC(S, P, k) : \n",
    "    \"\"\"\n",
    "    the graph is not bipartite, P is a square matrix\n",
    "    \"\"\"\n",
    "    n = P.shape[0]\n",
    "    X = np.zeros((k, n))\n",
    "    X[0, S] = 1\n",
    "    step = 1\n",
    "    infected_this_turn = S\n",
    "    while len(infected_this_turn) > 0 and step < k:\n",
    "        \n",
    "        infected_next_turn = np.random.uniform(high = 1, size = (len(infected_this_turn), n)) < P[infected_this_turn, :]\n",
    "        infected_next_turn = np.sum(infected_next_turn, axis = 0) > 0\n",
    "        infected_next_turn = np.where(infected_next_turn)[0]\n",
    "        print(infected_this_turn, infected_next_turn)\n",
    "        \n",
    "        X[step:, infected_this_turn] = 1\n",
    "        \n",
    "        infected_this_turn = [k for k in infected_next_turn if X[step, k] == 0] #we do not reprocess the nodes\n",
    "        step += 1\n",
    "\n",
    "    return X[:step, :]\n",
    "\n",
    "n = 500 \n",
    "P = np.multiply(np.random.binomial(n=1, p=0.5, size=(n,n)), 0.5 * np.random.random((n,n)) + 0.5)\n",
    "mask = np.zeros((n,n))\n",
    "for i in range(n): \n",
    "    for j in range(n):\n",
    "        if j != i and np.random.random() > 0.9995 : mask[i,j] = 1\n",
    "        if abs(j-i) < 6 and i != j : mask[i,j] = 1\n",
    "P = np.multiply(P, mask)\n",
    "draw_IC = IC([0,1,2], P, 50)\n",
    "print(draw_IC.sum(axis = 1))\n",
    "sns.heatmap(P)"
   ]
  },
  {
   "cell_type": "code",
   "execution_count": null,
   "metadata": {},
   "outputs": [],
   "source": [
    "colors = dict({0:'#AAAAAA', 1:'#FF5555',})\n",
    "\n",
    "fig, ax = plt.subplots(figsize=(15,15))\n",
    "# Create a graph and layout\n",
    "G = nx.DiGraph(P)\n",
    "layout = nx.spring_layout(G)\n",
    "nx.draw(G, pos=layout, node_color=[colors[k] for k in draw_IC[-2, :]], ax=ax, vmin=0, vmax=2, cmap='Set1', node_size=[(d+1) * 2.0 for d in dict(G.degree()).values()], edge_color=[colors[int((draw_IC[-2, u] + draw_IC[-2, v]) == 2)] for (u,v) in G.edges()], width=0.5)\n",
    "ax.set_facecolor(\"black\")\n",
    "\n",
    "plt.show()\n"
   ]
  },
  {
   "cell_type": "code",
   "execution_count": null,
   "metadata": {},
   "outputs": [],
   "source": [
    "import numpy as np\n",
    "import networkx as nx\n",
    "import matplotlib.pyplot as plt\n",
    "from matplotlib import animation\n",
    "\n",
    "colors = dict({0:'#AAAAAA', 1:'#FF5555'})\n",
    "\n",
    "def simple_update(num, X, layout, G, ax, node_size):\n",
    "    print(num)\n",
    "    ax.clear()\n",
    "    nx.draw(G, pos=layout, node_color=[colors[k] for k in X[num, :]], ax=ax, vmin=0, vmax=2, cmap='Set1', node_size=node_size, edge_color=[colors[int((X[num, u] + X[num, v]) == 2)] for (u,v) in G.edges()], width=0.5)\n",
    "    ax.set_title(\"Frame {}\".format(num))\n",
    "\n",
    "def simple_animation(P, X):\n",
    "\n",
    "    fig, ax = plt.subplots(figsize=(15,15))\n",
    "    # Create a graph and layout\n",
    "    G = nx.DiGraph(P)\n",
    "    layout = nx.spring_layout(G)\n",
    "    node_size = [(d+1) * 10.0 for d in dict(G.degree()).values()]\n",
    "\n",
    "    ani = animation.FuncAnimation(fig, simple_update, frames=X.shape[0], fargs=(X, layout, G, ax, node_size))\n",
    "    ani.save('animation_4.gif')\n",
    "\n",
    "    plt.show()\n",
    "\n",
    "simple_animation(P, draw_IC)\n"
   ]
  }
 ],
 "metadata": {
  "kernelspec": {
   "display_name": "Python 3.9.0 ('MLenv')",
   "language": "python",
   "name": "python3"
  },
  "language_info": {
   "name": "python",
   "version": "3.9.0"
  },
  "orig_nbformat": 4,
  "vscode": {
   "interpreter": {
    "hash": "749726e2bfb6039573ea3dae05bad0125db75c17601202a3d293fd3654405ac1"
   }
  }
 },
 "nbformat": 4,
 "nbformat_minor": 2
}
