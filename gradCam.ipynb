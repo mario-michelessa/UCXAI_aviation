{
 "cells": [
  {
   "cell_type": "code",
   "execution_count": 1,
   "metadata": {},
   "outputs": [
    {
     "name": "stderr",
     "output_type": "stream",
     "text": [
      "d:\\0. PROGRAMMES SSD\\Anaconda\\envs\\tf\\lib\\site-packages\\scipy\\__init__.py:146: UserWarning: A NumPy version >=1.16.5 and <1.23.0 is required for this version of SciPy (detected version 1.23.1\n",
      "  warnings.warn(f\"A NumPy version >={np_minversion} and <{np_maxversion}\"\n"
     ]
    }
   ],
   "source": [
    "import tensorflow as tf #version 2.9\n",
    "from tensorflow.keras import datasets, layers, models\n",
    "\n",
    "import matplotlib.pyplot as plt\n",
    "import ssl\n",
    "ssl._create_default_https_context = ssl._create_unverified_context\n",
    "\n",
    "import numpy as np\n",
    "import seaborn as sns\n",
    "import matplotlib.cm as cm\n"
   ]
  },
  {
   "cell_type": "code",
   "execution_count": 2,
   "metadata": {},
   "outputs": [],
   "source": [
    "def load_dataset():\n",
    "\t\"\"\"loads the MNIST dataset\"\"\"\n",
    "\t(trainX, trainY), (testX, testY) = tf.keras.datasets.mnist.load_data()\n",
    "\n",
    "\ttrainX = trainX.reshape((trainX.shape[0], 28, 28, 1))\n",
    "\ttestX = testX.reshape((testX.shape[0], 28, 28, 1))\n",
    "\ttrainY = tf.keras.utils.to_categorical(trainY)\n",
    "\ttestY = tf.keras.utils.to_categorical(testY)\n",
    "\t\n",
    "\ttrainX = trainX.astype('float32')\n",
    "\ttestX = testX.astype('float32')\n",
    "\ttrainX = trainX / 255.0\n",
    "\ttestX = testX / 255.0\n",
    "\n",
    "\treturn trainX, trainY, testX, testY\n",
    "\n",
    "# define cnn model\n",
    "def define_model():\n",
    "\t\"\"\"\n",
    "\tSimplest model : 1 ConvLayer, 1 FullyConnLayer\n",
    "\t\"\"\"\n",
    "\tmodel = tf.keras.models.Sequential()\n",
    "\tmodel.add(layers.Conv2D(32, (3, 3), activation='relu', kernel_initializer='he_uniform', input_shape=(28, 28, 1)))\n",
    "\tmodel.add(layers.MaxPooling2D((2, 2)))\n",
    "\tmodel.add(layers.Flatten())\n",
    "\tmodel.add(layers.Dense(100, activation='relu', kernel_initializer='he_uniform'))\n",
    "\tmodel.add(layers.Dense(10, activation='softmax'))\n",
    "\t\n",
    "\topt = tf.keras.optimizers.SGD(learning_rate=0.01, momentum=0.9)\n",
    "\tmodel.compile(optimizer=opt, loss='categorical_crossentropy', metrics=['accuracy'])\n",
    "\treturn model\n",
    "\n",
    "trainX, trainY, testX, testY = load_dataset()\n"
   ]
  },
  {
   "cell_type": "code",
   "execution_count": 72,
   "metadata": {},
   "outputs": [
    {
     "name": "stdout",
     "output_type": "stream",
     "text": [
      "Epoch 1/5\n",
      "1875/1875 [==============================] - 18s 6ms/step - loss: 0.1663 - accuracy: 0.9501 - val_loss: 0.0768 - val_accuracy: 0.9763\n",
      "Epoch 2/5\n",
      "1875/1875 [==============================] - 10s 5ms/step - loss: 0.0596 - accuracy: 0.9816 - val_loss: 0.0525 - val_accuracy: 0.9832\n",
      "Epoch 3/5\n",
      "1875/1875 [==============================] - 10s 5ms/step - loss: 0.0381 - accuracy: 0.9881 - val_loss: 0.0473 - val_accuracy: 0.9845\n",
      "Epoch 4/5\n",
      "1875/1875 [==============================] - 8s 5ms/step - loss: 0.0271 - accuracy: 0.9919 - val_loss: 0.0436 - val_accuracy: 0.9851\n",
      "Epoch 5/5\n",
      "1875/1875 [==============================] - 9s 5ms/step - loss: 0.0197 - accuracy: 0.9937 - val_loss: 0.0417 - val_accuracy: 0.9863\n",
      "Accuracy on train data > 99.633\n",
      "Accuracy on test data > 98.630\n"
     ]
    }
   ],
   "source": [
    "model_simple = define_model()\n",
    "\n",
    "history = model_simple.fit(trainX, trainY, epochs=5, batch_size=32, validation_data=(testX, testY), verbose=1)\n",
    "\n",
    "_, acctrain = model_simple.evaluate(trainX, trainY, verbose=0)\n",
    "_, acctest = model_simple.evaluate(testX, testY, verbose=0)\n",
    "print('Accuracy on train data > %.3f' % (acctrain * 100.0))\n",
    "print('Accuracy on test data > %.3f' % (acctest * 100.0))\n"
   ]
  },
  {
   "cell_type": "markdown",
   "metadata": {},
   "source": [
    "load mnist model to not do training again"
   ]
  },
  {
   "cell_type": "code",
   "execution_count": 27,
   "metadata": {},
   "outputs": [],
   "source": [
    "# model_simple.save('models/mnist_cnn.h5')\n",
    "# mnist_model = tf.keras.models.load_model(\"models/mnist_model.h5\")"
   ]
  },
  {
   "cell_type": "markdown",
   "metadata": {},
   "source": [
    "GRAD-CAM"
   ]
  },
  {
   "cell_type": "code",
   "execution_count": 3,
   "metadata": {},
   "outputs": [],
   "source": [
    "def grad_cam(input_model, image, category_index, layer_name):\n",
    "    \"\"\"\n",
    "    returns the heatmap corresponding to the gradients of the considered layer\n",
    "    - image is in format (1, width, height, 1 if grey or 3 if rgb)\n",
    "    - category_index is the index of the class we want to analyse (--> the predicted class of image)\n",
    "    - layer_name  (--> last ConvLayer before classification)\n",
    "    \"\"\"    \n",
    "    grad_model = tf.keras.models.Model(\n",
    "        inputs=[input_model.inputs],\n",
    "        outputs=[input_model.get_layer(layer_name).output,\n",
    "                    input_model.output]\n",
    "    ) #returns the prediction and activation of the layer we want to analyse\n",
    "    \n",
    "    with tf.GradientTape() as tape:\n",
    "        inputs = image\n",
    "        last_conv_layer_output, preds = grad_model(inputs)\n",
    "        class_channel = preds[:, category_index] # get the probability of the chosen class\n",
    "    grads = tape.gradient(class_channel, last_conv_layer_output) #computes the gradient of yc with respect to Akij, \n",
    "    #size (1, layer_x, layer_y, layer_channel)\n",
    "    pooled_grads = tf.reduce_mean(grads, axis=(0, 1, 2)) #averages over i j to obtain alpha_c_k\n",
    "    #size (layer_channel)\n",
    "\n",
    "    last_conv_layer_output = last_conv_layer_output[0]\n",
    "    \n",
    "    heatmap = last_conv_layer_output @ pooled_grads[..., tf.newaxis] #computes \\sum_k alpha_c_k * Akij\n",
    "    heatmap = tf.squeeze(heatmap)\n",
    "\n",
    "    heatmap = tf.maximum(heatmap, 0) / tf.math.reduce_max(heatmap) #relu\n",
    "\n",
    "    return heatmap.numpy()\n"
   ]
  },
  {
   "cell_type": "code",
   "execution_count": 4,
   "metadata": {},
   "outputs": [],
   "source": [
    "\n",
    "def generate_heatmap(model, image, layer) : \n",
    "    \"\"\"returns the heatmap of the predicted label of image by the model\"\"\"\n",
    "    predictions = model.predict(image)\n",
    "    predicted_class = np.argmax(predictions) #selecting the highest probability class\n",
    "\n",
    "    print(f'Predicted class: {predicted_class}')\n",
    "    heatmap = grad_cam(model, image, predicted_class, layer)\n",
    "    \n",
    "    return heatmap\n",
    "\n",
    "def print_superimpose(img, heatmap, alpha, title=\"\") : \n",
    "    \"\"\"superimposes the heatmap on image\n",
    "        - img is of size (width, height, 1 or 3)\n",
    "        - alpha is the transparency of the heatmap\n",
    "        \n",
    "    \"\"\"\n",
    "    heatmap = np.uint8(255 * heatmap)\n",
    "    \n",
    "    color_map = cm.get_cmap(\"jet\")\n",
    "    color_map = color_map(np.arange(256))[:, :3]\n",
    "    color_map = color_map[heatmap]\n",
    "    color_map = tf.keras.preprocessing.image.array_to_img(color_map)\n",
    "    color_map = color_map.resize(img.shape[:2])\n",
    "    color_map = tf.keras.preprocessing.image.img_to_array(color_map)\n",
    "    if len(img.shape) == 2 :\n",
    "        img = tf.tile(tf.expand_dims(img, axis=2), [1,1,3])\n",
    "    \n",
    "    superimposed_img = color_map * alpha + (1-alpha) * img\n",
    "    superimposed_img = tf.keras.preprocessing.image.array_to_img(superimposed_img)\n",
    "    plt.title(title)\n",
    "    plt.imshow(superimposed_img, cmap='jet')\n",
    "    "
   ]
  },
  {
   "cell_type": "code",
   "execution_count": 80,
   "metadata": {},
   "outputs": [
    {
     "name": "stdout",
     "output_type": "stream",
     "text": [
      "1/1 [==============================] - 0s 33ms/step\n",
      "Predicted class: 5\n"
     ]
    },
    {
     "data": {
      "image/png": "[encoded data removed]",
      "text/plain": [
       "<Figure size 432x288 with 1 Axes>"
      ]
     },
     "metadata": {
      "needs_background": "light"
     },
     "output_type": "display_data"
    }
   ],
   "source": [
    "#Generating explanations for the simplest model\n",
    "\n",
    "n_image = 0 #index of the image we want to analyse\n",
    "img  = trainX[n_image:n_image+1]\n",
    "\n",
    "heatmap = generate_heatmap(model_simple, img, 'conv2d_20')\n",
    "# sns.heatmap(heatmap)\n",
    "print_superimpose(img[0], heatmap, 0.005, \"simple model, class predicted : 5\")"
   ]
  },
  {
   "cell_type": "code",
   "execution_count": 81,
   "metadata": {},
   "outputs": [],
   "source": [
    "def define_model2():\n",
    "    \"\"\"\n",
    "    More advanced model : 2CL with dropout + 2FCL\n",
    "    \"\"\"\n",
    "    model = tf.keras.models.Sequential()\n",
    "    \n",
    "    model.add(layers.Conv2D(32, (3, 3), activation='relu', kernel_initializer='he_uniform', input_shape=(28, 28, 1)))\n",
    "    model.add(layers.MaxPooling2D((2, 2)))\n",
    "    model.add(layers.Dropout(0.2))\n",
    "\n",
    "    model.add(layers.Conv2D(64, (3, 3), activation='relu', kernel_initializer='he_uniform', input_shape=(13,13,2)))\n",
    "    model.add(layers.MaxPooling2D((2, 2)))\n",
    "    model.add(layers.Dropout(0.2))\n",
    "    \n",
    "    model.add(layers.Flatten())\n",
    "    model.add(layers.Dense(100, activation='relu', kernel_initializer='he_uniform'))\n",
    "    model.add(layers.Dense(10, activation='softmax'))\n",
    "    print(model.summary())\n",
    "    \n",
    "    opt = tf.keras.optimizers.SGD(learning_rate=0.01, momentum=0.9)\n",
    "    model.compile(optimizer=opt, loss='categorical_crossentropy', metrics=['accuracy'])\n",
    "    return model\n"
   ]
  },
  {
   "cell_type": "code",
   "execution_count": 20,
   "metadata": {},
   "outputs": [
    {
     "name": "stdout",
     "output_type": "stream",
     "text": [
      "Model: \"sequential_2\"\n",
      "_________________________________________________________________\n",
      " Layer (type)                Output Shape              Param #   \n",
      "=================================================================\n",
      " conv2d_2 (Conv2D)           (None, 26, 26, 32)        320       \n",
      "                                                                 \n",
      " max_pooling2d_2 (MaxPooling  (None, 13, 13, 32)       0         \n",
      " 2D)                                                             \n",
      "                                                                 \n",
      " dropout (Dropout)           (None, 13, 13, 32)        0         \n",
      "                                                                 \n",
      " conv2d_3 (Conv2D)           (None, 11, 11, 64)        18496     \n",
      "                                                                 \n",
      " max_pooling2d_3 (MaxPooling  (None, 5, 5, 64)         0         \n",
      " 2D)                                                             \n",
      "                                                                 \n",
      " dropout_1 (Dropout)         (None, 5, 5, 64)          0         \n",
      "                                                                 \n",
      " flatten_2 (Flatten)         (None, 1600)              0         \n",
      "                                                                 \n",
      " dense_4 (Dense)             (None, 100)               160100    \n",
      "                                                                 \n",
      " dense_5 (Dense)             (None, 10)                1010      \n",
      "                                                                 \n",
      "=================================================================\n",
      "Total params: 179,926\n",
      "Trainable params: 179,926\n",
      "Non-trainable params: 0\n",
      "_________________________________________________________________\n",
      "None\n",
      "Epoch 1/5\n",
      "1875/1875 [==============================] - 13s 6ms/step - loss: 0.1599 - accuracy: 0.9492 - val_loss: 0.0494 - val_accuracy: 0.9844\n",
      "Epoch 2/5\n",
      "1875/1875 [==============================] - 12s 7ms/step - loss: 0.0588 - accuracy: 0.9816 - val_loss: 0.0341 - val_accuracy: 0.9889\n",
      "Epoch 3/5\n",
      "1875/1875 [==============================] - 11s 6ms/step - loss: 0.0477 - accuracy: 0.9850 - val_loss: 0.0294 - val_accuracy: 0.9909\n",
      "Epoch 4/5\n",
      "1875/1875 [==============================] - 10s 5ms/step - loss: 0.0394 - accuracy: 0.9873 - val_loss: 0.0256 - val_accuracy: 0.9919\n",
      "Epoch 5/5\n",
      "1875/1875 [==============================] - 10s 6ms/step - loss: 0.0331 - accuracy: 0.9896 - val_loss: 0.0255 - val_accuracy: 0.9915\n",
      "Accuracy on train data > 99.608\n",
      "Accuracy on test data > 99.150\n",
      "Model: \"sequential_2\"\n",
      "_________________________________________________________________\n",
      " Layer (type)                Output Shape              Param #   \n",
      "=================================================================\n",
      " conv2d_2 (Conv2D)           (None, 26, 26, 32)        320       \n",
      "                                                                 \n",
      " max_pooling2d_2 (MaxPooling  (None, 13, 13, 32)       0         \n",
      " 2D)                                                             \n",
      "                                                                 \n",
      " dropout (Dropout)           (None, 13, 13, 32)        0         \n",
      "                                                                 \n",
      " conv2d_3 (Conv2D)           (None, 11, 11, 64)        18496     \n",
      "                                                                 \n",
      " max_pooling2d_3 (MaxPooling  (None, 5, 5, 64)         0         \n",
      " 2D)                                                             \n",
      "                                                                 \n",
      " dropout_1 (Dropout)         (None, 5, 5, 64)          0         \n",
      "                                                                 \n",
      " flatten_2 (Flatten)         (None, 1600)              0         \n",
      "                                                                 \n",
      " dense_4 (Dense)             (None, 100)               160100    \n",
      "                                                                 \n",
      " dense_5 (Dense)             (None, 10)                1010      \n",
      "                                                                 \n",
      "=================================================================\n",
      "Total params: 179,926\n",
      "Trainable params: 179,926\n",
      "Non-trainable params: 0\n",
      "_________________________________________________________________\n"
     ]
    }
   ],
   "source": [
    "#training of more advanced model\n",
    "\n",
    "trainX, trainY, testX, testY = load_dataset()\n",
    "model_dropout = define_model2()\n",
    "history = model_dropout.fit(trainX, trainY, epochs=5, batch_size=32, validation_data=(testX, testY), verbose=1)\n",
    "\n",
    "_, acctrain = model_dropout.evaluate(trainX, trainY, verbose=0)\n",
    "_, acctest = model_dropout.evaluate(testX, testY, verbose=0)\n",
    "print('Accuracy on train data > %.3f' % (acctrain * 100.0))\n",
    "print('Accuracy on test data > %.3f' % (acctest * 100.0))\n",
    "\n",
    "model_dropout.summary()"
   ]
  },
  {
   "cell_type": "code",
   "execution_count": 44,
   "metadata": {},
   "outputs": [
    {
     "name": "stdout",
     "output_type": "stream",
     "text": [
      "1/1 [==============================] - 0s 18ms/step\n",
      "Predicted class: 1\n"
     ]
    },
    {
     "data": {
      "image/png": "[encoded data removed]",
      "text/plain": [
       "<Figure size 432x288 with 1 Axes>"
      ]
     },
     "metadata": {
      "needs_background": "light"
     },
     "output_type": "display_data"
    }
   ],
   "source": [
    "#Generating explanations for the more advanced model\n",
    "\n",
    "n_image = 3\n",
    "img = trainX[n_image:n_image+1]\n",
    "\n",
    "heatmap = generate_heatmap(model_dropout, img, \"conv2d_3\")\n",
    "print_superimpose(img[0], heatmap, 0.005, \"dropout model, predicted : 1\")"
   ]
  },
  {
   "cell_type": "code",
   "execution_count": 6,
   "metadata": {},
   "outputs": [
    {
     "name": "stdout",
     "output_type": "stream",
     "text": [
      "Epoch 1/5\n",
      "WARNING:tensorflow:Using a while_loop for converting RngReadAndSkip\n",
      "WARNING:tensorflow:Using a while_loop for converting Bitcast\n",
      "WARNING:tensorflow:Using a while_loop for converting Bitcast\n",
      "WARNING:tensorflow:Using a while_loop for converting StatelessRandomUniformV2\n",
      "WARNING:tensorflow:Using a while_loop for converting RngReadAndSkip\n",
      "WARNING:tensorflow:Using a while_loop for converting Bitcast\n",
      "WARNING:tensorflow:Using a while_loop for converting Bitcast\n",
      "WARNING:tensorflow:Using a while_loop for converting StatelessRandomUniformV2\n",
      "WARNING:tensorflow:Using a while_loop for converting ImageProjectiveTransformV3\n",
      "WARNING:tensorflow:Using a while_loop for converting RngReadAndSkip\n",
      "WARNING:tensorflow:Using a while_loop for converting Bitcast\n",
      "WARNING:tensorflow:Using a while_loop for converting Bitcast\n",
      "WARNING:tensorflow:Using a while_loop for converting StatelessRandomUniformV2\n",
      "WARNING:tensorflow:Using a while_loop for converting RngReadAndSkip\n",
      "WARNING:tensorflow:Using a while_loop for converting Bitcast\n",
      "WARNING:tensorflow:Using a while_loop for converting Bitcast\n",
      "WARNING:tensorflow:Using a while_loop for converting StatelessRandomUniformV2\n",
      "WARNING:tensorflow:Using a while_loop for converting ImageProjectiveTransformV3\n",
      "WARNING:tensorflow:Using a while_loop for converting RngReadAndSkip\n",
      "WARNING:tensorflow:Using a while_loop for converting Bitcast\n",
      "WARNING:tensorflow:Using a while_loop for converting Bitcast\n",
      "WARNING:tensorflow:Using a while_loop for converting StatelessRandomUniformV2\n",
      "WARNING:tensorflow:Using a while_loop for converting RngReadAndSkip\n",
      "WARNING:tensorflow:Using a while_loop for converting Bitcast\n",
      "WARNING:tensorflow:Using a while_loop for converting Bitcast\n",
      "WARNING:tensorflow:Using a while_loop for converting StatelessRandomUniformV2\n",
      "WARNING:tensorflow:Using a while_loop for converting ImageProjectiveTransformV3\n",
      "1875/1875 [==============================] - 674s 358ms/step - loss: 1.4580 - accuracy: 0.4731 - val_loss: 0.4412 - val_accuracy: 0.8547\n",
      "Epoch 2/5\n",
      "1875/1875 [==============================] - 678s 362ms/step - loss: 0.8977 - accuracy: 0.6853 - val_loss: 0.2506 - val_accuracy: 0.9193\n",
      "Epoch 3/5\n",
      "1875/1875 [==============================] - 673s 359ms/step - loss: 0.7430 - accuracy: 0.7396 - val_loss: 0.1974 - val_accuracy: 0.9387\n",
      "Epoch 4/5\n",
      "1875/1875 [==============================] - 692s 369ms/step - loss: 0.6668 - accuracy: 0.7658 - val_loss: 0.1196 - val_accuracy: 0.9634\n",
      "Epoch 5/5\n",
      "1875/1875 [==============================] - 695s 371ms/step - loss: 0.6216 - accuracy: 0.7835 - val_loss: 0.1129 - val_accuracy: 0.9665\n",
      "Accuracy on train data > 96.078\n",
      "Accuracy on test data > 96.650\n",
      "Model: \"sequential_1\"\n",
      "_________________________________________________________________\n",
      " Layer (type)                Output Shape              Param #   \n",
      "=================================================================\n",
      " random_translation_1 (Rando  (None, 28, 28, 1)        0         \n",
      " mTranslation)                                                   \n",
      "                                                                 \n",
      " conv2d_2 (Conv2D)           (None, 26, 26, 32)        320       \n",
      "                                                                 \n",
      " max_pooling2d_2 (MaxPooling  (None, 13, 13, 32)       0         \n",
      " 2D)                                                             \n",
      "                                                                 \n",
      " dropout_2 (Dropout)         (None, 13, 13, 32)        0         \n",
      "                                                                 \n",
      " conv2d_3 (Conv2D)           (None, 11, 11, 64)        18496     \n",
      "                                                                 \n",
      " max_pooling2d_3 (MaxPooling  (None, 5, 5, 64)         0         \n",
      " 2D)                                                             \n",
      "                                                                 \n",
      " dropout_3 (Dropout)         (None, 5, 5, 64)          0         \n",
      "                                                                 \n",
      " flatten_1 (Flatten)         (None, 1600)              0         \n",
      "                                                                 \n",
      " dense_2 (Dense)             (None, 100)               160100    \n",
      "                                                                 \n",
      " dense_3 (Dense)             (None, 10)                1010      \n",
      "                                                                 \n",
      "=================================================================\n",
      "Total params: 179,926\n",
      "Trainable params: 179,926\n",
      "Non-trainable params: 0\n",
      "_________________________________________________________________\n"
     ]
    }
   ],
   "source": [
    "def define_modelDA():\n",
    "    \"\"\" adding data augmentation \"\"\"\n",
    "    model = tf.keras.models.Sequential()\n",
    "\n",
    "    #very bad choice of augmentation, rotation and flip are important for prediction.\n",
    "    #model.add(layers.RandomFlip(\"horizontal_and_vertical\")) \n",
    "    #model.add(layers.RandomRotation(0.2))\n",
    "\n",
    "    #tf2.9 bug, very slow (WARNING:tensorflow:Using a while_loop for converting RngReadAndSkip), to do : use other method to do data augmentation\n",
    "    model.add(layers.RandomTranslation(height_factor=(-0.5, 0.5), width_factor=(-0.5, 0.5), fill_mode=\"constant\", fill_value=0.0))\n",
    "\n",
    "    model.add(layers.Conv2D(32, (3, 3), activation='relu', kernel_initializer='he_uniform', input_shape=(28, 28, 1)))\n",
    "    model.add(layers.MaxPooling2D((2, 2)))\n",
    "    model.add(layers.Dropout(0.2))\n",
    "    model.add(layers.Conv2D(64, (3, 3), activation='relu', kernel_initializer='he_uniform', input_shape=(13,13,2)))\n",
    "    model.add(layers.MaxPooling2D((2, 2)))\n",
    "    model.add(layers.Dropout(0.2))\n",
    "    model.add(layers.Flatten())\n",
    "    model.add(layers.Dense(100, activation='relu', kernel_initializer='he_uniform'))\n",
    "    model.add(layers.Dense(10, activation='softmax'))\n",
    "    \n",
    "    opt = tf.keras.optimizers.SGD(learning_rate=0.01, momentum=0.9)\n",
    "    model.compile(optimizer=opt, loss='categorical_crossentropy', metrics=['accuracy'])\n",
    "    return model\n",
    "\n",
    "trainX, trainY, testX, testY = load_dataset()\n",
    "model_DA = define_modelDA()\n",
    "\n",
    "history = model_DA.fit(trainX, trainY, epochs=5, batch_size=32, validation_data=(testX, testY), verbose=1)\n",
    "\n",
    "_, acctrain = model_DA.evaluate(trainX, trainY, verbose=0)\n",
    "_, acctest = model_DA.evaluate(testX, testY, verbose=0)\n",
    "print('Accuracy on train data > %.3f' % (acctrain * 100.0))\n",
    "print('Accuracy on test data > %.3f' % (acctest * 100.0))\n",
    "\n",
    "model_DA.summary()"
   ]
  },
  {
   "cell_type": "code",
   "execution_count": 18,
   "metadata": {},
   "outputs": [
    {
     "name": "stdout",
     "output_type": "stream",
     "text": [
      "1/1 [==============================] - 0s 15ms/step\n",
      "Predicted class: 4\n"
     ]
    },
    {
     "data": {
      "image/png": "[encoded data removed]",
      "text/plain": [
       "<Figure size 432x288 with 1 Axes>"
      ]
     },
     "metadata": {
      "needs_background": "light"
     },
     "output_type": "display_data"
    }
   ],
   "source": [
    "n_image = 2\n",
    "img = trainX[n_image:n_image+1]\n",
    "heatmap = generate_heatmap(model_DA, img, \"conv2d_3\")\n",
    "print_superimpose(img[0], heatmap, 0.005, \"with DA, predicted : 4\")"
   ]
  },
  {
   "cell_type": "code",
   "execution_count": 56,
   "metadata": {},
   "outputs": [
    {
     "name": "stdout",
     "output_type": "stream",
     "text": [
      "(50000, 10)\n",
      "Model: \"sequential_10\"\n",
      "_________________________________________________________________\n",
      " Layer (type)                Output Shape              Param #   \n",
      "=================================================================\n",
      " conv2d_18 (Conv2D)          (None, 30, 30, 32)        896       \n",
      "                                                                 \n",
      " max_pooling2d_18 (MaxPoolin  (None, 15, 15, 32)       0         \n",
      " g2D)                                                            \n",
      "                                                                 \n",
      " dropout_16 (Dropout)        (None, 15, 15, 32)        0         \n",
      "                                                                 \n",
      " conv2d_19 (Conv2D)          (None, 13, 13, 64)        18496     \n",
      "                                                                 \n",
      " max_pooling2d_19 (MaxPoolin  (None, 6, 6, 64)         0         \n",
      " g2D)                                                            \n",
      "                                                                 \n",
      " dropout_17 (Dropout)        (None, 6, 6, 64)          0         \n",
      "                                                                 \n",
      " flatten_10 (Flatten)        (None, 2304)              0         \n",
      "                                                                 \n",
      " dense_20 (Dense)            (None, 100)               230500    \n",
      "                                                                 \n",
      " dense_21 (Dense)            (None, 10)                1010      \n",
      "                                                                 \n",
      "=================================================================\n",
      "Total params: 250,902\n",
      "Trainable params: 250,902\n",
      "Non-trainable params: 0\n",
      "_________________________________________________________________\n",
      "None\n",
      "Epoch 1/5\n",
      "1563/1563 [==============================] - 11s 7ms/step - loss: 1.5781 - accuracy: 0.4296 - val_loss: 1.2834 - val_accuracy: 0.5460\n",
      "Epoch 2/5\n",
      "1563/1563 [==============================] - 10s 7ms/step - loss: 1.2444 - accuracy: 0.5578 - val_loss: 1.1545 - val_accuracy: 0.5970\n",
      "Epoch 3/5\n",
      "1563/1563 [==============================] - 12s 7ms/step - loss: 1.1177 - accuracy: 0.6033 - val_loss: 1.1157 - val_accuracy: 0.6049\n",
      "Epoch 4/5\n",
      "1563/1563 [==============================] - 12s 8ms/step - loss: 1.0287 - accuracy: 0.6381 - val_loss: 1.0056 - val_accuracy: 0.6548\n",
      "Epoch 5/5\n",
      "1563/1563 [==============================] - 10s 6ms/step - loss: 0.9536 - accuracy: 0.6659 - val_loss: 0.9460 - val_accuracy: 0.6731\n",
      "Accuracy on train data > 73.564\n",
      "Accuracy on test data > 67.310\n"
     ]
    }
   ],
   "source": [
    "def load_dataset_cifar():\n",
    "\t(trainX, trainY), (testX, testY) = tf.keras.datasets.cifar10.load_data()\n",
    "\n",
    "\ttrainX = trainX.reshape((trainX.shape[0], 32, 32, 3))\n",
    "\ttestX = testX.reshape((testX.shape[0], 32, 32, 3))\n",
    "\ttrainY = tf.keras.utils.to_categorical(trainY)\n",
    "\ttestY = tf.keras.utils.to_categorical(testY)\n",
    "\t\n",
    "\ttrainX = trainX.astype('float32')\n",
    "\ttestX = testX.astype('float32')\n",
    "\ttrainX = trainX / 255.0\n",
    "\ttestX = testX / 255.0\n",
    "\n",
    "\treturn trainX, trainY, testX, testY\n",
    "\n",
    "def define_model_cifar():\n",
    "    \"\"\" changing input size \"\"\"\n",
    "    model = tf.keras.models.Sequential()\n",
    "    model.add(layers.Conv2D(32, (3, 3), activation='relu', kernel_initializer='he_uniform', input_shape=(32, 32, 3)))\n",
    "    model.add(layers.MaxPooling2D((2, 2)))\n",
    "    model.add(layers.Dropout(0.2))\n",
    "    model.add(layers.Conv2D(64, (3, 3), activation='relu', kernel_initializer='he_uniform', input_shape=(13,13,3)))\n",
    "    model.add(layers.MaxPooling2D((2, 2)))\n",
    "    model.add(layers.Dropout(0.2))\n",
    "    model.add(layers.Flatten())\n",
    "    model.add(layers.Dense(100, activation='relu', kernel_initializer='he_uniform'))\n",
    "    model.add(layers.Dense(10, activation='softmax'))\n",
    "    print(model.summary())\n",
    "    \n",
    "    opt = tf.keras.optimizers.SGD(learning_rate=0.01, momentum=0.9)\n",
    "    model.compile(optimizer=opt, loss='categorical_crossentropy', metrics=['accuracy'])\n",
    "    return model\n",
    "\n",
    "cifar_trainX, cifar_trainY, cifar_testX, cifar_testY = load_dataset_cifar()\n",
    "print(cifar_trainY.shape)\n",
    "cifar_model = define_model_cifar()\n",
    "\n",
    "history = cifar_model.fit(cifar_trainX, cifar_trainY, epochs=5, batch_size=32, validation_data=(cifar_testX, cifar_testY), verbose=1)\n",
    "\n",
    "_, acctrain = cifar_model.evaluate(cifar_trainX, cifar_trainY, verbose=0)\n",
    "_, acctest = cifar_model.evaluate(cifar_testX, cifar_testY, verbose=0)\n",
    "print('Accuracy on train data > %.3f' % (acctrain * 100.0))\n",
    "print('Accuracy on test data > %.3f' % (acctest * 100.0))\n"
   ]
  },
  {
   "cell_type": "code",
   "execution_count": 68,
   "metadata": {},
   "outputs": [
    {
     "name": "stdout",
     "output_type": "stream",
     "text": [
      "1/1 [==============================] - 0s 17ms/step\n",
      "Predicted class: 9\n"
     ]
    },
    {
     "data": {
      "image/png": "[encoded data removed]",
      "text/plain": [
       "<Figure size 432x288 with 1 Axes>"
      ]
     },
     "metadata": {
      "needs_background": "light"
     },
     "output_type": "display_data"
    }
   ],
   "source": [
    "\n",
    "n_image = 1\n",
    "img  = cifar_trainX[n_image:n_image+1]\n",
    "# airplane automobile bird cat deer dog, frog horse ship truck\n",
    "heatmap = generate_heatmap(cifar_model, img, 'conv2d_19')\n",
    "# sns.heatmap(heatmap)\n",
    "\n",
    "print_superimpose(img[0], heatmap, 0.002, \"cifar10 : predicted class : truck\")"
   ]
  },
  {
   "cell_type": "code",
   "execution_count": 47,
   "metadata": {},
   "outputs": [
    {
     "data": {
      "text/plain": [
       "{'loss': [0.886446475982666,\n",
       "  0.43840599060058594,\n",
       "  0.35246896743774414,\n",
       "  0.31051185727119446,\n",
       "  0.2826809287071228],\n",
       " 'accuracy': [0.6970666646957397,\n",
       "  0.859749972820282,\n",
       "  0.8858333230018616,\n",
       "  0.8993499875068665,\n",
       "  0.9077833294868469],\n",
       " 'val_loss': [0.3882640302181244,\n",
       "  0.27941834926605225,\n",
       "  0.22845394909381866,\n",
       "  0.19884613156318665,\n",
       "  0.2107381820678711],\n",
       " 'val_accuracy': [0.8686000108718872,\n",
       "  0.9068999886512756,\n",
       "  0.9271000027656555,\n",
       "  0.9351000189781189,\n",
       "  0.9286999702453613]}"
      ]
     },
     "execution_count": 47,
     "metadata": {},
     "output_type": "execute_result"
    }
   ],
   "source": []
  },
  {
   "cell_type": "code",
   "execution_count": null,
   "metadata": {},
   "outputs": [],
   "source": []
  }
 ],
 "metadata": {
  "kernelspec": {
   "display_name": "Python 3.10.4 ('tf')",
   "language": "python",
   "name": "python3"
  },
  "language_info": {
   "codemirror_mode": {
    "name": "ipython",
    "version": 3
   },
   "file_extension": ".py",
   "mimetype": "text/x-python",
   "name": "python",
   "nbconvert_exporter": "python",
   "pygments_lexer": "ipython3",
   "version": "3.10.4"
  },
  "orig_nbformat": 4,
  "vscode": {
   "interpreter": {
    "hash": "42a7264d8fa3134632fad77393fbcc1bb83af830933276b67614ea3841b8eb37"
   }
  }
 },
 "nbformat": 4,
 "nbformat_minor": 2
}
